{
 "cells": [
  {
   "cell_type": "code",
   "execution_count": 6,
   "metadata": {},
   "outputs": [
    {
     "name": "stdout",
     "output_type": "stream",
     "text": [
      "Accuracy: 0.5\n",
      "Precision: 0.6\n",
      "Recall: 0.6\n",
      "Extracted text: \n",
      "Extracted text: \n",
      "Extracted text: \n",
      "Extracted text: \n",
      "Extracted text: \n",
      "Extracted text: YOUR\n",
      "TEXT\n",
      "HERE\n",
      "\n"
     ]
    }
   ],
   "source": [
    "import cv2\n",
    "import pytesseract\n",
    "from sklearn.neighbors import KNeighborsClassifier\n",
    "from sklearn.metrics import accuracy_score\n",
    "import numpy as np\n",
    "\n",
    "pytesseract.pytesseract.tesseract_cmd = r'D:\\Programs\\tesseract.exe'\n",
    "\n",
    "img = cv2.imread(\"sample_image3.png\")\n",
    "\n",
    "gray = cv2.cvtColor(img, cv2.COLOR_BGR2GRAY)\n",
    "\n",
    "thresh = cv2.adaptiveThreshold(gray, 255, cv2.ADAPTIVE_THRESH_MEAN_C, cv2.THRESH_BINARY, 11, 2)\n",
    "contours, _ = cv2.findContours(thresh, cv2.RETR_EXTERNAL, cv2.CHAIN_APPROX_SIMPLE)\n",
    "\n",
    "\n",
    "X_train = np.random.rand(len(contours), 3)  \n",
    "y_train = np.random.choice([0, 1], size=len(contours))  \n",
    "\n",
    "knn = KNeighborsClassifier(n_neighbors=3)\n",
    "knn.fit(X_train, y_train)\n",
    "\n",
    "\n",
    "X_test = np.random.rand(len(contours), 3)  \n",
    "y_test = np.random.choice([0, 1], size=len(contours))  \n",
    "\n",
    "y_pred = knn.predict(X_test)\n",
    "\n",
    "accuracy = accuracy_score(y_test, y_pred)\n",
    "print(\"Accuracy:\", accuracy)\n",
    "\n",
    "TP = np.sum((y_test == 1) & (y_pred == 1))\n",
    "FP = np.sum((y_test == 0) & (y_pred == 1))\n",
    "FN = np.sum((y_test == 1) & (y_pred == 0))\n",
    "\n",
    "precision = TP / (TP + FP)\n",
    "recall = TP / (TP + FN)\n",
    "\n",
    "print(\"Precision:\", precision)\n",
    "print(\"Recall:\", recall)\n",
    "\n",
    "\n",
    "# Iterate through contours and classify text regions using KNN\n",
    "for cnt in contours:\n",
    "    x, y, w, h = cv2.boundingRect(cnt)\n",
    "\n",
    "    # Crop the region of interest (ROI) containing potential text\n",
    "    roi = img[y:y+h, x:x+w]\n",
    "\n",
    "    # Extract features from ROI (replace with actual feature extraction)\n",
    "    features = np.random.rand(1, 3)  # Dummy features (replace with actual feature extraction)\n",
    "\n",
    "    # Predict whether ROI contains text using KNN\n",
    "    prediction = knn.predict(features)\n",
    "\n",
    "    # If KNN predicts positive for text, apply OCR\n",
    "    if prediction == 1:\n",
    "        text = pytesseract.image_to_string(roi)\n",
    "        print(\"Extracted text:\", text)\n",
    "\n"
   ]
  }
 ],
 "metadata": {
  "kernelspec": {
   "display_name": "Python 3",
   "language": "python",
   "name": "python3"
  },
  "language_info": {
   "codemirror_mode": {
    "name": "ipython",
    "version": 3
   },
   "file_extension": ".py",
   "mimetype": "text/x-python",
   "name": "python",
   "nbconvert_exporter": "python",
   "pygments_lexer": "ipython3",
   "version": "3.11.4"
  }
 },
 "nbformat": 4,
 "nbformat_minor": 2
}
